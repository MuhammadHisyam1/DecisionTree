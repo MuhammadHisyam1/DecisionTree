{
  "nbformat": 4,
  "nbformat_minor": 0,
  "metadata": {
    "colab": {
      "name": "DecisionTree.ipynb",
      "provenance": []
    },
    "kernelspec": {
      "name": "python3",
      "display_name": "Python 3"
    },
    "language_info": {
      "name": "python"
    }
  },
  "cells": [
    {
      "cell_type": "code",
      "execution_count": null,
      "metadata": {
        "id": "jgOJ0IsQp_kO"
      },
      "outputs": [],
      "source": [
        "from sklearn.tree import DecisionTreeClassfier\n",
        "from sklearn import datasets\n",
        "import matplotlib.pyplot as plt"
      ]
    },
    {
      "cell_type": "code",
      "source": [
        "iris = datasets.load_iris()\n",
        "features = iris['data']\n",
        "target = iris['target']\n",
        "print(features)\n",
        "len(features)"
      ],
      "metadata": {
        "id": "PdQl-Zdzuc0G"
      },
      "execution_count": null,
      "outputs": []
    },
    {
      "cell_type": "code",
      "source": [
        "decisionTree = DecisionTreeClassfier(random_state=0, max_dept=None,\n",
        "                                     main_sample_splite=2, min_sample_leaf=1,\n",
        "                                     min_weight_fraction_leaf=0,\n",
        "                                     max_leaf_nodes=None,\n",
        "                                     min_impurity_decrease=0)"
      ],
      "metadata": {
        "id": "uHoYzpVFuut6"
      },
      "execution_count": null,
      "outputs": []
    },
    {
      "cell_type": "code",
      "source": [
        "model = decisionTree.fit(features, target)"
      ],
      "metadata": {
        "id": "Aip4fXEsvO3T"
      },
      "execution_count": null,
      "outputs": []
    },
    {
      "cell_type": "code",
      "source": [
        "observation = [[5,4,3,2]]\n",
        "model.predict(observation)\n",
        "model.predict_proba(observation)"
      ],
      "metadata": {
        "id": "YwY0oiz_vZnE"
      },
      "execution_count": null,
      "outputs": []
    },
    {
      "cell_type": "code",
      "source": [
        "impory pydotplus\n",
        "from sklearn import tree\n",
        "dot_data = tree.export_graphviz(decisiontree, out_file=None,\n",
        "                                feature_names=iris['features_names'],\n",
        "                                class_names=iris['target_names'])\n",
        "from Ipython.display import image\n",
        "graph = pydotplus.graph_from_dot_data(dot_data)\n",
        "image(graph.create_png())\n",
        "graph.write_png('iris.png')"
      ],
      "metadata": {
        "id": "V42ih4I8vm25"
      },
      "execution_count": null,
      "outputs": []
    }
  ]
}